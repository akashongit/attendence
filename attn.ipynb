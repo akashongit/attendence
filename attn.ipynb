{
 "cells": [
  {
   "cell_type": "code",
   "execution_count": 108,
   "metadata": {
    "collapsed": true
   },
   "outputs": [],
   "source": [
    "import webbrowser,requests,bs4\n",
    "import getpass\n",
    "import MySQLdb as mariadb"
   ]
  },
  {
   "cell_type": "code",
   "execution_count": 109,
   "metadata": {
    "collapsed": true
   },
   "outputs": [],
   "source": [
    "cl='C7A'\n",
    "page=requests.post('http://attendance.mec.ac.in/view4stud.php',data={'class':cl})\n",
    "src=page.text"
   ]
  },
  {
   "cell_type": "code",
   "execution_count": 110,
   "metadata": {
    "collapsed": true
   },
   "outputs": [],
   "source": [
    "attn=bs4.BeautifulSoup(src)"
   ]
  },
  {
   "cell_type": "code",
   "execution_count": 111,
   "metadata": {},
   "outputs": [
    {
     "data": {
      "text/plain": [
       "u'70.00'"
      ]
     },
     "execution_count": 111,
     "metadata": {},
     "output_type": "execute_result"
    }
   ],
   "source": [
    "ppl=attn.select('table.attn tr td')\n",
    "ppl[45].getText()"
   ]
  },
  {
   "cell_type": "code",
   "execution_count": 112,
   "metadata": {
    "collapsed": true
   },
   "outputs": [],
   "source": [
    "for i in range(13,884):\n",
    "    ppl[i]=ppl[i].getText()\n",
    "    ppl[i]=\" \".join(ppl[i].split())\n",
    "    if ppl[i]=='Nil':\n",
    "        ppl[i]='-1'\n",
    "        \n",
    "# len(ppl)\n",
    "# 13*68"
   ]
  },
  {
   "cell_type": "code",
   "execution_count": 88,
   "metadata": {},
   "outputs": [
    {
     "data": {
      "text/plain": [
       "u'01'"
      ]
     },
     "execution_count": 88,
     "metadata": {},
     "output_type": "execute_result"
    }
   ],
   "source": [
    "ppl[13][-2:]"
   ]
  },
  {
   "cell_type": "code",
   "execution_count": 34,
   "metadata": {},
   "outputs": [
    {
     "name": "stdout",
     "output_type": "stream",
     "text": [
      "········\n"
     ]
    }
   ],
   "source": [
    "conn=mariadb.connect(host='localhost',user='root',passwd=getpass.getpass(),db=input())"
   ]
  },
  {
   "cell_type": "code",
   "execution_count": 35,
   "metadata": {
    "collapsed": true
   },
   "outputs": [],
   "source": [
    "cur=conn.cursor()"
   ]
  },
  {
   "cell_type": "code",
   "execution_count": 100,
   "metadata": {
    "collapsed": true
   },
   "outputs": [],
   "source": [
    "tquery=\"CREATE TABLE s7_attn (sl INT PRIMARY KEY AUTO_INCREMENT,roll VARCHAR(10) NOT NULL,name VARCHAR(30) NOT NULL,cs1701 FLOAT,cs1702 FLOAT,cs1703 FLOAT,cs1704 FLOAT,cs1705 FLOAT,cs17l1 FLOAT,cs17l2 FLOAT,cs17l3 FLOAT,cs17l4 FLOAT,total FLOAT,grade VARCHAR(1));\"\n",
    "drop='DROP TABLE s7_attn;'\n",
    "describe='DESCRIBE s7_attn;'"
   ]
  },
  {
   "cell_type": "code",
   "execution_count": 113,
   "metadata": {
    "collapsed": true
   },
   "outputs": [],
   "source": [
    "update_q=\"UPDATE s7_attn SET cs1701=%s,cs1702=%s,cs1703=%s,cs1704=%s,cs1705=%s,cs17l1=%s,cs17l2=%s,cs17l3=%s,cs17l4=%s,total=%s,grade='%s' WHERE sl=%s;\""
   ]
  },
  {
   "cell_type": "code",
   "execution_count": 102,
   "metadata": {
    "collapsed": true
   },
   "outputs": [],
   "source": [
    "insert_q=\"INSERT INTO s7_attn (roll,name,cs1701,cs1702,cs1703,cs1704,cs1705,cs17l1,cs17l2,cs17l3,cs17l4,total,grade) VALUES ('%s','%s',%s,%s,%s,%s,%s,%s,%s,%s,%s,%s,'%s');\""
   ]
  },
  {
   "cell_type": "code",
   "execution_count": 114,
   "metadata": {},
   "outputs": [
    {
     "name": "stdout",
     "output_type": "stream",
     "text": [
      "INSERT INTO s7_attn (roll,name,cs1701,cs1702,cs1703,cs1704,cs1705,cs17l1,cs17l2,cs17l3,cs17l4,total,grade) VALUES ('CSU 141 01','ABHISHEK NAMBIAR C',84.21,90.91,,78.26,85.00,87.50,82.35,100.00,100.00,87.14,'N');\n",
      "INSERT INTO s7_attn (roll,name,cs1701,cs1702,cs1703,cs1704,cs1705,cs17l1,cs17l2,cs17l3,cs17l4,total,grade) VALUES ('CSU 141 02','ABINAS K A',94.74,90.91,,86.96,85.00,62.50,100.00,100.00,100.00,87.86,'N');\n",
      "INSERT INTO s7_attn (roll,name,cs1701,cs1702,cs1703,cs1704,cs1705,cs17l1,cs17l2,cs17l3,cs17l4,total,grade) VALUES ('CSU 141 03','AJAY JOHN THATTIL',47.37,72.73,,65.22,70.00,75.00,52.94,66.67,85.71,66.43,'L');\n",
      "INSERT INTO s7_attn (roll,name,cs1701,cs1702,cs1703,cs1704,cs1705,cs17l1,cs17l2,cs17l3,cs17l4,total,grade) VALUES ('CSU 141 04','AJAY V',100.00,81.82,,100.00,100.00,87.50,100.00,100.00,100.00,96.43,'H');\n",
      "INSERT INTO s7_attn (roll,name,cs1701,cs1702,cs1703,cs1704,cs1705,cs17l1,cs17l2,cs17l3,cs17l4,total,grade) VALUES ('CSU 141 05','AKASH GEEVARGHESE',68.42,63.64,,86.96,80.00,87.50,100.00,66.67,85.71,81.43,'N');\n",
      "INSERT INTO s7_attn (roll,name,cs1701,cs1702,cs1703,cs1704,cs1705,cs17l1,cs17l2,cs17l3,cs17l4,total,grade) VALUES ('CSU 141 06','AKSHAY K M',94.74,100.00,,91.30,90.00,87.50,100.00,100.00,100.00,94.29,'H');\n",
      "INSERT INTO s7_attn (roll,name,cs1701,cs1702,cs1703,cs1704,cs1705,cs17l1,cs17l2,cs17l3,cs17l4,total,grade) VALUES ('CSU 141 07','ALBIN ANTONY',47.37,72.73,,43.48,80.00,50.00,82.35,33.33,71.43,59.29,'L');\n",
      "INSERT INTO s7_attn (roll,name,cs1701,cs1702,cs1703,cs1704,cs1705,cs17l1,cs17l2,cs17l3,cs17l4,total,grade) VALUES ('CSU 141 08','ALBIN PAUL K S',100.00,100.00,,100.00,100.00,87.50,100.00,100.00,100.00,97.86,'H');\n",
      "INSERT INTO s7_attn (roll,name,cs1701,cs1702,cs1703,cs1704,cs1705,cs17l1,cs17l2,cs17l3,cs17l4,total,grade) VALUES ('CSU 141 09','ALBIN PLATHOTTATHIL',89.47,90.91,,86.96,80.00,87.50,100.00,83.33,100.00,89.29,'N');\n",
      "INSERT INTO s7_attn (roll,name,cs1701,cs1702,cs1703,cs1704,cs1705,cs17l1,cs17l2,cs17l3,cs17l4,total,grade) VALUES ('CSU 141 10','ALIF NOUSHAD',94.74,100.00,,100.00,100.00,87.50,100.00,100.00,100.00,97.14,'H');\n",
      "INSERT INTO s7_attn (roll,name,cs1701,cs1702,cs1703,cs1704,cs1705,cs17l1,cs17l2,cs17l3,cs17l4,total,grade) VALUES ('CSU 141 11','AMAL JOSE A',78.95,90.91,,69.57,80.00,62.50,100.00,100.00,85.71,80.71,'N');\n",
      "INSERT INTO s7_attn (roll,name,cs1701,cs1702,cs1703,cs1704,cs1705,cs17l1,cs17l2,cs17l3,cs17l4,total,grade) VALUES ('CSU 141 12','AMEL JOHNY',57.89,63.64,,78.26,85.00,75.00,64.71,83.33,85.71,74.29,'L');\n",
      "INSERT INTO s7_attn (roll,name,cs1701,cs1702,cs1703,cs1704,cs1705,cs17l1,cs17l2,cs17l3,cs17l4,total,grade) VALUES ('CSU 141 13','AMRITA KRISHNA',89.47,81.82,,95.65,95.00,62.50,100.00,100.00,100.00,89.29,'N');\n",
      "INSERT INTO s7_attn (roll,name,cs1701,cs1702,cs1703,cs1704,cs1705,cs17l1,cs17l2,cs17l3,cs17l4,total,grade) VALUES ('CSU 141 14','ANAGHA S MENON',63.16,18.18,,65.22,65.00,62.50,70.59,50.00,71.43,60.71,'L');\n",
      "INSERT INTO s7_attn (roll,name,cs1701,cs1702,cs1703,cs1704,cs1705,cs17l1,cs17l2,cs17l3,cs17l4,total,grade) VALUES ('CSU 141 15','ANJANA MUKESH',94.74,90.91,,78.26,85.00,75.00,82.35,100.00,100.00,86.43,'N');\n",
      "INSERT INTO s7_attn (roll,name,cs1701,cs1702,cs1703,cs1704,cs1705,cs17l1,cs17l2,cs17l3,cs17l4,total,grade) VALUES ('CSU 141 16','ASHIK ALIAS',89.47,72.73,,95.65,90.00,87.50,100.00,100.00,85.71,90.71,'H');\n",
      "INSERT INTO s7_attn (roll,name,cs1701,cs1702,cs1703,cs1704,cs1705,cs17l1,cs17l2,cs17l3,cs17l4,total,grade) VALUES ('CSU 141 17','ASHMA M J',89.47,90.91,,82.61,85.00,87.50,88.24,83.33,100.00,87.86,'N');\n",
      "INSERT INTO s7_attn (roll,name,cs1701,cs1702,cs1703,cs1704,cs1705,cs17l1,cs17l2,cs17l3,cs17l4,total,grade) VALUES ('CSU 141 18','BALANARAYANAN KARTHA V',84.21,81.82,,91.30,95.00,62.50,100.00,100.00,100.00,87.86,'N');\n",
      "INSERT INTO s7_attn (roll,name,cs1701,cs1702,cs1703,cs1704,cs1705,cs17l1,cs17l2,cs17l3,cs17l4,total,grade) VALUES ('CSU 141 19','BHAGIRATHI R',94.74,90.91,,91.30,90.00,87.50,100.00,100.00,100.00,93.57,'H');\n",
      "INSERT INTO s7_attn (roll,name,cs1701,cs1702,cs1703,cs1704,cs1705,cs17l1,cs17l2,cs17l3,cs17l4,total,grade) VALUES ('CSU 141 20','CICCI MARIA XAVIER',84.21,100.00,,95.65,85.00,75.00,100.00,100.00,100.00,90.71,'H');\n",
      "INSERT INTO s7_attn (roll,name,cs1701,cs1702,cs1703,cs1704,cs1705,cs17l1,cs17l2,cs17l3,cs17l4,total,grade) VALUES ('CSU 141 21','DENNIS PETER GEORGE',68.42,63.64,,78.26,75.00,75.00,100.00,100.00,85.71,80.00,'N');\n",
      "INSERT INTO s7_attn (roll,name,cs1701,cs1702,cs1703,cs1704,cs1705,cs17l1,cs17l2,cs17l3,cs17l4,total,grade) VALUES ('CSU 141 22','DILAWZ K K',84.21,81.82,,82.61,80.00,87.50,100.00,100.00,85.71,87.14,'N');\n",
      "INSERT INTO s7_attn (roll,name,cs1701,cs1702,cs1703,cs1704,cs1705,cs17l1,cs17l2,cs17l3,cs17l4,total,grade) VALUES ('CSU 141 23','EBIN B PLACKAL',78.95,81.82,,82.61,85.00,87.50,82.35,83.33,100.00,85.00,'N');\n",
      "INSERT INTO s7_attn (roll,name,cs1701,cs1702,cs1703,cs1704,cs1705,cs17l1,cs17l2,cs17l3,cs17l4,total,grade) VALUES ('CSU 141 24','GEOVIN PAROL',73.68,81.82,,69.57,100.00,62.50,82.35,83.33,85.71,78.57,'L');\n",
      "INSERT INTO s7_attn (roll,name,cs1701,cs1702,cs1703,cs1704,cs1705,cs17l1,cs17l2,cs17l3,cs17l4,total,grade) VALUES ('CSU 141 25','JAMES MATHEWS',68.42,72.73,,69.57,75.00,87.50,82.35,66.67,100.00,77.86,'L');\n",
      "INSERT INTO s7_attn (roll,name,cs1701,cs1702,cs1703,cs1704,cs1705,cs17l1,cs17l2,cs17l3,cs17l4,total,grade) VALUES ('CSU 141 26','JAYARAJ BALAGOPAL',89.47,100.00,,95.65,100.00,87.50,100.00,100.00,100.00,95.71,'H');\n",
      "INSERT INTO s7_attn (roll,name,cs1701,cs1702,cs1703,cs1704,cs1705,cs17l1,cs17l2,cs17l3,cs17l4,total,grade) VALUES ('CSU 141 27','K T TINSON',68.42,54.55,,78.26,70.00,75.00,100.00,83.33,85.71,77.14,'L');\n",
      "INSERT INTO s7_attn (roll,name,cs1701,cs1702,cs1703,cs1704,cs1705,cs17l1,cs17l2,cs17l3,cs17l4,total,grade) VALUES ('CSU 141 28','KRISHNA PRIYA P',84.21,81.82,,91.30,80.00,87.50,100.00,66.67,100.00,87.14,'N');\n",
      "INSERT INTO s7_attn (roll,name,cs1701,cs1702,cs1703,cs1704,cs1705,cs17l1,cs17l2,cs17l3,cs17l4,total,grade) VALUES ('CSU 141 29','KRISHNA T M',94.74,81.82,,82.61,80.00,87.50,100.00,100.00,100.00,90.00,'H');\n",
      "INSERT INTO s7_attn (roll,name,cs1701,cs1702,cs1703,cs1704,cs1705,cs17l1,cs17l2,cs17l3,cs17l4,total,grade) VALUES ('CSU 141 30','KURIAN V SUNNY',84.21,81.82,,60.87,60.00,50.00,88.24,83.33,100.00,72.86,'L');\n",
      "INSERT INTO s7_attn (roll,name,cs1701,cs1702,cs1703,cs1704,cs1705,cs17l1,cs17l2,cs17l3,cs17l4,total,grade) VALUES ('CSU 141 31','MARIYA JAMES',94.74,81.82,,100.00,100.00,87.50,100.00,100.00,100.00,95.71,'H');\n",
      "INSERT INTO s7_attn (roll,name,cs1701,cs1702,cs1703,cs1704,cs1705,cs17l1,cs17l2,cs17l3,cs17l4,total,grade) VALUES ('CSU 141 32','MEENAKSHI OMPRAKASH',84.21,63.64,,78.26,75.00,62.50,100.00,100.00,71.43,78.57,'L');\n",
      "INSERT INTO s7_attn (roll,name,cs1701,cs1702,cs1703,cs1704,cs1705,cs17l1,cs17l2,cs17l3,cs17l4,total,grade) VALUES ('CSU 141 33','MOHAMMED RAEEZ',89.47,100.00,,65.22,70.00,62.50,100.00,100.00,100.00,82.14,'N');\n",
      "INSERT INTO s7_attn (roll,name,cs1701,cs1702,cs1703,cs1704,cs1705,cs17l1,cs17l2,cs17l3,cs17l4,total,grade) VALUES ('CSU 141 34','MOHAN T D',94.74,81.82,,82.61,85.00,37.50,100.00,100.00,100.00,82.14,'N');\n",
      "INSERT INTO s7_attn (roll,name,cs1701,cs1702,cs1703,cs1704,cs1705,cs17l1,cs17l2,cs17l3,cs17l4,total,grade) VALUES ('CSU 141 35','NANDAKUMARA SUGUNA TEJASWINI',78.95,90.91,,86.96,80.00,75.00,100.00,100.00,85.71,85.71,'N');\n",
      "INSERT INTO s7_attn (roll,name,cs1701,cs1702,cs1703,cs1704,cs1705,cs17l1,cs17l2,cs17l3,cs17l4,total,grade) VALUES ('CSU 141 36','NIRANJAN P',52.63,54.55,,69.57,60.00,75.00,64.71,100.00,100.00,70.71,'L');\n",
      "INSERT INTO s7_attn (roll,name,cs1701,cs1702,cs1703,cs1704,cs1705,cs17l1,cs17l2,cs17l3,cs17l4,total,grade) VALUES ('CSU 141 37','NIRANJANA ANAND UNNITHAN',100.00,81.82,,82.61,90.00,87.50,82.35,66.67,100.00,87.14,'N');\n",
      "INSERT INTO s7_attn (roll,name,cs1701,cs1702,cs1703,cs1704,cs1705,cs17l1,cs17l2,cs17l3,cs17l4,total,grade) VALUES ('CSU 141 38','O T MIDHUNA',94.74,72.73,,78.26,70.00,62.50,100.00,83.33,100.00,81.43,'N');\n",
      "INSERT INTO s7_attn (roll,name,cs1701,cs1702,cs1703,cs1704,cs1705,cs17l1,cs17l2,cs17l3,cs17l4,total,grade) VALUES ('CSU 141 39','PARVATHY T R',78.95,81.82,,69.57,75.00,62.50,100.00,100.00,71.43,77.86,'L');\n",
      "INSERT INTO s7_attn (roll,name,cs1701,cs1702,cs1703,cs1704,cs1705,cs17l1,cs17l2,cs17l3,cs17l4,total,grade) VALUES ('CSU 141 40','PAUL LOUIS',89.47,81.82,,78.26,80.00,62.50,100.00,100.00,85.71,82.86,'N');\n",
      "INSERT INTO s7_attn (roll,name,cs1701,cs1702,cs1703,cs1704,cs1705,cs17l1,cs17l2,cs17l3,cs17l4,total,grade) VALUES ('CSU 141 41','PETER JOSEPH PAINUNKAL',89.47,100.00,,91.30,85.00,87.50,100.00,100.00,85.71,91.43,'H');\n",
      "INSERT INTO s7_attn (roll,name,cs1701,cs1702,cs1703,cs1704,cs1705,cs17l1,cs17l2,cs17l3,cs17l4,total,grade) VALUES ('CSU 141 42','PRANOY PAUL PANAKKAL',73.68,54.55,,65.22,65.00,50.00,100.00,100.00,71.43,70.71,'L');\n",
      "INSERT INTO s7_attn (roll,name,cs1701,cs1702,cs1703,cs1704,cs1705,cs17l1,cs17l2,cs17l3,cs17l4,total,grade) VALUES ('CSU 141 43','PRASANTH M P',94.74,100.00,,73.91,85.00,75.00,82.35,100.00,100.00,86.43,'N');\n",
      "INSERT INTO s7_attn (roll,name,cs1701,cs1702,cs1703,cs1704,cs1705,cs17l1,cs17l2,cs17l3,cs17l4,total,grade) VALUES ('CSU 141 44','RAHUL SANKAR',94.74,100.00,,95.65,95.00,75.00,100.00,100.00,100.00,93.57,'H');\n",
      "INSERT INTO s7_attn (roll,name,cs1701,cs1702,cs1703,cs1704,cs1705,cs17l1,cs17l2,cs17l3,cs17l4,total,grade) VALUES ('CSU 141 45','RAHUL V REJI',89.47,72.73,,78.26,80.00,87.50,100.00,100.00,100.00,87.86,'N');\n",
      "INSERT INTO s7_attn (roll,name,cs1701,cs1702,cs1703,cs1704,cs1705,cs17l1,cs17l2,cs17l3,cs17l4,total,grade) VALUES ('CSU 141 46','ROHAN JACOB THANKACHAN',73.68,90.91,,95.65,95.00,75.00,100.00,100.00,85.71,88.57,'N');\n",
      "INSERT INTO s7_attn (roll,name,cs1701,cs1702,cs1703,cs1704,cs1705,cs17l1,cs17l2,cs17l3,cs17l4,total,grade) VALUES ('CSU 141 47','S MEENA PADNEKAR',94.74,100.00,,86.96,95.00,75.00,100.00,100.00,100.00,92.14,'H');\n",
      "INSERT INTO s7_attn (roll,name,cs1701,cs1702,cs1703,cs1704,cs1705,cs17l1,cs17l2,cs17l3,cs17l4,total,grade) VALUES ('CSU 141 48','SANJAY S PRABHU',89.47,90.91,,86.96,90.00,87.50,100.00,100.00,100.00,92.14,'H');\n",
      "INSERT INTO s7_attn (roll,name,cs1701,cs1702,cs1703,cs1704,cs1705,cs17l1,cs17l2,cs17l3,cs17l4,total,grade) VALUES ('CSU 141 49','SARANYA KRISHNA',89.47,100.00,,100.00,95.00,87.50,100.00,100.00,100.00,95.71,'H');\n",
      "INSERT INTO s7_attn (roll,name,cs1701,cs1702,cs1703,cs1704,cs1705,cs17l1,cs17l2,cs17l3,cs17l4,total,grade) VALUES ('CSU 141 50','SHAJNA M',89.47,100.00,,56.52,80.00,62.50,64.71,66.67,100.00,75.00,'L');\n",
      "INSERT INTO s7_attn (roll,name,cs1701,cs1702,cs1703,cs1704,cs1705,cs17l1,cs17l2,cs17l3,cs17l4,total,grade) VALUES ('CSU 141 51','SHARON RACHEL MANU',78.95,63.64,,69.57,65.00,87.50,88.24,100.00,100.00,80.71,'N');\n",
      "INSERT INTO s7_attn (roll,name,cs1701,cs1702,cs1703,cs1704,cs1705,cs17l1,cs17l2,cs17l3,cs17l4,total,grade) VALUES ('CSU 141 52','SHINSI FATHIMA RAHMAN',89.47,81.82,,86.96,80.00,62.50,100.00,83.33,100.00,84.29,'N');\n",
      "INSERT INTO s7_attn (roll,name,cs1701,cs1702,cs1703,cs1704,cs1705,cs17l1,cs17l2,cs17l3,cs17l4,total,grade) VALUES ('CSU 141 53','SHREYA K LAKSHMANAN',100.00,72.73,,86.96,95.00,87.50,100.00,100.00,100.00,92.86,'H');\n",
      "INSERT INTO s7_attn (roll,name,cs1701,cs1702,cs1703,cs1704,cs1705,cs17l1,cs17l2,cs17l3,cs17l4,total,grade) VALUES ('CSU 141 54','SHWETA ANN JACOB',84.21,81.82,,82.61,70.00,75.00,100.00,100.00,85.71,83.57,'N');\n",
      "INSERT INTO s7_attn (roll,name,cs1701,cs1702,cs1703,cs1704,cs1705,cs17l1,cs17l2,cs17l3,cs17l4,total,grade) VALUES ('CSU 141 55','SIDHARTH M',94.74,90.91,,91.30,95.00,87.50,82.35,66.67,100.00,89.29,'N');\n",
      "INSERT INTO s7_attn (roll,name,cs1701,cs1702,cs1703,cs1704,cs1705,cs17l1,cs17l2,cs17l3,cs17l4,total,grade) VALUES ('CSU 141 56','SRAVAN S',89.47,100.00,,100.00,100.00,87.50,100.00,100.00,100.00,96.43,'H');\n",
      "INSERT INTO s7_attn (roll,name,cs1701,cs1702,cs1703,cs1704,cs1705,cs17l1,cs17l2,cs17l3,cs17l4,total,grade) VALUES ('CSU 141 57','STANLY JOHNSON',94.74,90.91,,91.30,100.00,87.50,100.00,83.33,100.00,93.57,'H');\n",
      "INSERT INTO s7_attn (roll,name,cs1701,cs1702,cs1703,cs1704,cs1705,cs17l1,cs17l2,cs17l3,cs17l4,total,grade) VALUES ('CSU 141 58','SURYA S GEORGE',100.00,81.82,,91.30,95.00,87.50,100.00,100.00,100.00,94.29,'H');\n",
      "INSERT INTO s7_attn (roll,name,cs1701,cs1702,cs1703,cs1704,cs1705,cs17l1,cs17l2,cs17l3,cs17l4,total,grade) VALUES ('CSU 141 59','THANVI RABIA',100.00,100.00,,91.30,90.00,87.50,100.00,100.00,100.00,95.00,'H');\n",
      "INSERT INTO s7_attn (roll,name,cs1701,cs1702,cs1703,cs1704,cs1705,cs17l1,cs17l2,cs17l3,cs17l4,total,grade) VALUES ('CSU 141 60','VAISAKH PISHARODY',89.47,100.00,,91.30,95.00,87.50,100.00,100.00,100.00,94.29,'H');\n",
      "INSERT INTO s7_attn (roll,name,cs1701,cs1702,cs1703,cs1704,cs1705,cs17l1,cs17l2,cs17l3,cs17l4,total,grade) VALUES ('CSU 141 61','VANI VALSAN',68.42,45.45,,65.22,80.00,62.50,100.00,50.00,100.00,72.14,'L');\n",
      "INSERT INTO s7_attn (roll,name,cs1701,cs1702,cs1703,cs1704,cs1705,cs17l1,cs17l2,cs17l3,cs17l4,total,grade) VALUES ('CSU 141 62','VANISREE D',84.21,90.91,,86.96,75.00,87.50,100.00,83.33,85.71,86.43,'N');\n",
      "INSERT INTO s7_attn (roll,name,cs1701,cs1702,cs1703,cs1704,cs1705,cs17l1,cs17l2,cs17l3,cs17l4,total,grade) VALUES ('CSU 141 63','VISHAL JOHN VARGHESE',84.21,90.91,,65.22,75.00,87.50,70.59,100.00,100.00,82.14,'N');\n",
      "INSERT INTO s7_attn (roll,name,cs1701,cs1702,cs1703,cs1704,cs1705,cs17l1,cs17l2,cs17l3,cs17l4,total,grade) VALUES ('CSU 151 64','ABISHEK SUKUMARAN',89.47,100.00,,69.57,80.00,75.00,82.35,100.00,100.00,84.29,'N');\n",
      "INSERT INTO s7_attn (roll,name,cs1701,cs1702,cs1703,cs1704,cs1705,cs17l1,cs17l2,cs17l3,cs17l4,total,grade) VALUES ('CSU 151 65','KRISHNAPRIYA M K',94.74,100.00,,82.61,90.00,75.00,82.35,100.00,100.00,88.57,'N');\n",
      "INSERT INTO s7_attn (roll,name,cs1701,cs1702,cs1703,cs1704,cs1705,cs17l1,cs17l2,cs17l3,cs17l4,total,grade) VALUES ('CSU 151 66','SAVITHA K',73.68,90.91,,56.52,75.00,37.50,82.35,100.00,100.00,72.14,'L');\n",
      "INSERT INTO s7_attn (roll,name,cs1701,cs1702,cs1703,cs1704,cs1705,cs17l1,cs17l2,cs17l3,cs17l4,total,grade) VALUES ('CSU 151 67','AASIF FAIZAL',78.95,81.82,,86.96,85.00,62.50,100.00,100.00,100.00,85.00,'N');\n"
     ]
    }
   ],
   "source": [
    "for i in range(13,884,13): # for initiation of attendance\n",
    "    query=insert_q %(ppl[i],ppl[i+1],ppl[i+2],ppl[i+3],ppl[i+4],ppl[i+5],ppl[i+6],ppl[i+7],ppl[i+8],ppl[i+9],ppl[i+10],ppl[i+11][:-1],ppl[i+12])\n",
    "    print(query)\n",
    "#     cur.execute(query)\n",
    "# conn.commit()"
   ]
  },
  {
   "cell_type": "code",
   "execution_count": 115,
   "metadata": {},
   "outputs": [
    {
     "name": "stdout",
     "output_type": "stream",
     "text": [
      "UPDATE s7_attn SET cs1701=84.21,cs1702=90.91,cs1703=,cs1704=78.26,cs1705=85.00,cs17l1=87.50,cs17l2=82.35,cs17l3=100.00,cs17l4=100.00,total=87.14,grade='N' WHERE sl=01;\n",
      "UPDATE s7_attn SET cs1701=94.74,cs1702=90.91,cs1703=,cs1704=86.96,cs1705=85.00,cs17l1=62.50,cs17l2=100.00,cs17l3=100.00,cs17l4=100.00,total=87.86,grade='N' WHERE sl=02;\n",
      "UPDATE s7_attn SET cs1701=47.37,cs1702=72.73,cs1703=,cs1704=65.22,cs1705=70.00,cs17l1=75.00,cs17l2=52.94,cs17l3=66.67,cs17l4=85.71,total=66.43,grade='L' WHERE sl=03;\n",
      "UPDATE s7_attn SET cs1701=100.00,cs1702=81.82,cs1703=,cs1704=100.00,cs1705=100.00,cs17l1=87.50,cs17l2=100.00,cs17l3=100.00,cs17l4=100.00,total=96.43,grade='H' WHERE sl=04;\n",
      "UPDATE s7_attn SET cs1701=68.42,cs1702=63.64,cs1703=,cs1704=86.96,cs1705=80.00,cs17l1=87.50,cs17l2=100.00,cs17l3=66.67,cs17l4=85.71,total=81.43,grade='N' WHERE sl=05;\n",
      "UPDATE s7_attn SET cs1701=94.74,cs1702=100.00,cs1703=,cs1704=91.30,cs1705=90.00,cs17l1=87.50,cs17l2=100.00,cs17l3=100.00,cs17l4=100.00,total=94.29,grade='H' WHERE sl=06;\n",
      "UPDATE s7_attn SET cs1701=47.37,cs1702=72.73,cs1703=,cs1704=43.48,cs1705=80.00,cs17l1=50.00,cs17l2=82.35,cs17l3=33.33,cs17l4=71.43,total=59.29,grade='L' WHERE sl=07;\n",
      "UPDATE s7_attn SET cs1701=100.00,cs1702=100.00,cs1703=,cs1704=100.00,cs1705=100.00,cs17l1=87.50,cs17l2=100.00,cs17l3=100.00,cs17l4=100.00,total=97.86,grade='H' WHERE sl=08;\n",
      "UPDATE s7_attn SET cs1701=89.47,cs1702=90.91,cs1703=,cs1704=86.96,cs1705=80.00,cs17l1=87.50,cs17l2=100.00,cs17l3=83.33,cs17l4=100.00,total=89.29,grade='N' WHERE sl=09;\n",
      "UPDATE s7_attn SET cs1701=94.74,cs1702=100.00,cs1703=,cs1704=100.00,cs1705=100.00,cs17l1=87.50,cs17l2=100.00,cs17l3=100.00,cs17l4=100.00,total=97.14,grade='H' WHERE sl=10;\n",
      "UPDATE s7_attn SET cs1701=78.95,cs1702=90.91,cs1703=,cs1704=69.57,cs1705=80.00,cs17l1=62.50,cs17l2=100.00,cs17l3=100.00,cs17l4=85.71,total=80.71,grade='N' WHERE sl=11;\n",
      "UPDATE s7_attn SET cs1701=57.89,cs1702=63.64,cs1703=,cs1704=78.26,cs1705=85.00,cs17l1=75.00,cs17l2=64.71,cs17l3=83.33,cs17l4=85.71,total=74.29,grade='L' WHERE sl=12;\n",
      "UPDATE s7_attn SET cs1701=89.47,cs1702=81.82,cs1703=,cs1704=95.65,cs1705=95.00,cs17l1=62.50,cs17l2=100.00,cs17l3=100.00,cs17l4=100.00,total=89.29,grade='N' WHERE sl=13;\n",
      "UPDATE s7_attn SET cs1701=63.16,cs1702=18.18,cs1703=,cs1704=65.22,cs1705=65.00,cs17l1=62.50,cs17l2=70.59,cs17l3=50.00,cs17l4=71.43,total=60.71,grade='L' WHERE sl=14;\n",
      "UPDATE s7_attn SET cs1701=94.74,cs1702=90.91,cs1703=,cs1704=78.26,cs1705=85.00,cs17l1=75.00,cs17l2=82.35,cs17l3=100.00,cs17l4=100.00,total=86.43,grade='N' WHERE sl=15;\n",
      "UPDATE s7_attn SET cs1701=89.47,cs1702=72.73,cs1703=,cs1704=95.65,cs1705=90.00,cs17l1=87.50,cs17l2=100.00,cs17l3=100.00,cs17l4=85.71,total=90.71,grade='H' WHERE sl=16;\n",
      "UPDATE s7_attn SET cs1701=89.47,cs1702=90.91,cs1703=,cs1704=82.61,cs1705=85.00,cs17l1=87.50,cs17l2=88.24,cs17l3=83.33,cs17l4=100.00,total=87.86,grade='N' WHERE sl=17;\n",
      "UPDATE s7_attn SET cs1701=84.21,cs1702=81.82,cs1703=,cs1704=91.30,cs1705=95.00,cs17l1=62.50,cs17l2=100.00,cs17l3=100.00,cs17l4=100.00,total=87.86,grade='N' WHERE sl=18;\n",
      "UPDATE s7_attn SET cs1701=94.74,cs1702=90.91,cs1703=,cs1704=91.30,cs1705=90.00,cs17l1=87.50,cs17l2=100.00,cs17l3=100.00,cs17l4=100.00,total=93.57,grade='H' WHERE sl=19;\n",
      "UPDATE s7_attn SET cs1701=84.21,cs1702=100.00,cs1703=,cs1704=95.65,cs1705=85.00,cs17l1=75.00,cs17l2=100.00,cs17l3=100.00,cs17l4=100.00,total=90.71,grade='H' WHERE sl=20;\n",
      "UPDATE s7_attn SET cs1701=68.42,cs1702=63.64,cs1703=,cs1704=78.26,cs1705=75.00,cs17l1=75.00,cs17l2=100.00,cs17l3=100.00,cs17l4=85.71,total=80.00,grade='N' WHERE sl=21;\n",
      "UPDATE s7_attn SET cs1701=84.21,cs1702=81.82,cs1703=,cs1704=82.61,cs1705=80.00,cs17l1=87.50,cs17l2=100.00,cs17l3=100.00,cs17l4=85.71,total=87.14,grade='N' WHERE sl=22;\n",
      "UPDATE s7_attn SET cs1701=78.95,cs1702=81.82,cs1703=,cs1704=82.61,cs1705=85.00,cs17l1=87.50,cs17l2=82.35,cs17l3=83.33,cs17l4=100.00,total=85.00,grade='N' WHERE sl=23;\n",
      "UPDATE s7_attn SET cs1701=73.68,cs1702=81.82,cs1703=,cs1704=69.57,cs1705=100.00,cs17l1=62.50,cs17l2=82.35,cs17l3=83.33,cs17l4=85.71,total=78.57,grade='L' WHERE sl=24;\n",
      "UPDATE s7_attn SET cs1701=68.42,cs1702=72.73,cs1703=,cs1704=69.57,cs1705=75.00,cs17l1=87.50,cs17l2=82.35,cs17l3=66.67,cs17l4=100.00,total=77.86,grade='L' WHERE sl=25;\n",
      "UPDATE s7_attn SET cs1701=89.47,cs1702=100.00,cs1703=,cs1704=95.65,cs1705=100.00,cs17l1=87.50,cs17l2=100.00,cs17l3=100.00,cs17l4=100.00,total=95.71,grade='H' WHERE sl=26;\n",
      "UPDATE s7_attn SET cs1701=68.42,cs1702=54.55,cs1703=,cs1704=78.26,cs1705=70.00,cs17l1=75.00,cs17l2=100.00,cs17l3=83.33,cs17l4=85.71,total=77.14,grade='L' WHERE sl=27;\n",
      "UPDATE s7_attn SET cs1701=84.21,cs1702=81.82,cs1703=,cs1704=91.30,cs1705=80.00,cs17l1=87.50,cs17l2=100.00,cs17l3=66.67,cs17l4=100.00,total=87.14,grade='N' WHERE sl=28;\n",
      "UPDATE s7_attn SET cs1701=94.74,cs1702=81.82,cs1703=,cs1704=82.61,cs1705=80.00,cs17l1=87.50,cs17l2=100.00,cs17l3=100.00,cs17l4=100.00,total=90.00,grade='H' WHERE sl=29;\n",
      "UPDATE s7_attn SET cs1701=84.21,cs1702=81.82,cs1703=,cs1704=60.87,cs1705=60.00,cs17l1=50.00,cs17l2=88.24,cs17l3=83.33,cs17l4=100.00,total=72.86,grade='L' WHERE sl=30;\n",
      "UPDATE s7_attn SET cs1701=94.74,cs1702=81.82,cs1703=,cs1704=100.00,cs1705=100.00,cs17l1=87.50,cs17l2=100.00,cs17l3=100.00,cs17l4=100.00,total=95.71,grade='H' WHERE sl=31;\n",
      "UPDATE s7_attn SET cs1701=84.21,cs1702=63.64,cs1703=,cs1704=78.26,cs1705=75.00,cs17l1=62.50,cs17l2=100.00,cs17l3=100.00,cs17l4=71.43,total=78.57,grade='L' WHERE sl=32;\n",
      "UPDATE s7_attn SET cs1701=89.47,cs1702=100.00,cs1703=,cs1704=65.22,cs1705=70.00,cs17l1=62.50,cs17l2=100.00,cs17l3=100.00,cs17l4=100.00,total=82.14,grade='N' WHERE sl=33;\n",
      "UPDATE s7_attn SET cs1701=94.74,cs1702=81.82,cs1703=,cs1704=82.61,cs1705=85.00,cs17l1=37.50,cs17l2=100.00,cs17l3=100.00,cs17l4=100.00,total=82.14,grade='N' WHERE sl=34;\n",
      "UPDATE s7_attn SET cs1701=78.95,cs1702=90.91,cs1703=,cs1704=86.96,cs1705=80.00,cs17l1=75.00,cs17l2=100.00,cs17l3=100.00,cs17l4=85.71,total=85.71,grade='N' WHERE sl=35;\n",
      "UPDATE s7_attn SET cs1701=52.63,cs1702=54.55,cs1703=,cs1704=69.57,cs1705=60.00,cs17l1=75.00,cs17l2=64.71,cs17l3=100.00,cs17l4=100.00,total=70.71,grade='L' WHERE sl=36;\n",
      "UPDATE s7_attn SET cs1701=100.00,cs1702=81.82,cs1703=,cs1704=82.61,cs1705=90.00,cs17l1=87.50,cs17l2=82.35,cs17l3=66.67,cs17l4=100.00,total=87.14,grade='N' WHERE sl=37;\n",
      "UPDATE s7_attn SET cs1701=94.74,cs1702=72.73,cs1703=,cs1704=78.26,cs1705=70.00,cs17l1=62.50,cs17l2=100.00,cs17l3=83.33,cs17l4=100.00,total=81.43,grade='N' WHERE sl=38;\n",
      "UPDATE s7_attn SET cs1701=78.95,cs1702=81.82,cs1703=,cs1704=69.57,cs1705=75.00,cs17l1=62.50,cs17l2=100.00,cs17l3=100.00,cs17l4=71.43,total=77.86,grade='L' WHERE sl=39;\n",
      "UPDATE s7_attn SET cs1701=89.47,cs1702=81.82,cs1703=,cs1704=78.26,cs1705=80.00,cs17l1=62.50,cs17l2=100.00,cs17l3=100.00,cs17l4=85.71,total=82.86,grade='N' WHERE sl=40;\n",
      "UPDATE s7_attn SET cs1701=89.47,cs1702=100.00,cs1703=,cs1704=91.30,cs1705=85.00,cs17l1=87.50,cs17l2=100.00,cs17l3=100.00,cs17l4=85.71,total=91.43,grade='H' WHERE sl=41;\n",
      "UPDATE s7_attn SET cs1701=73.68,cs1702=54.55,cs1703=,cs1704=65.22,cs1705=65.00,cs17l1=50.00,cs17l2=100.00,cs17l3=100.00,cs17l4=71.43,total=70.71,grade='L' WHERE sl=42;\n",
      "UPDATE s7_attn SET cs1701=94.74,cs1702=100.00,cs1703=,cs1704=73.91,cs1705=85.00,cs17l1=75.00,cs17l2=82.35,cs17l3=100.00,cs17l4=100.00,total=86.43,grade='N' WHERE sl=43;\n",
      "UPDATE s7_attn SET cs1701=94.74,cs1702=100.00,cs1703=,cs1704=95.65,cs1705=95.00,cs17l1=75.00,cs17l2=100.00,cs17l3=100.00,cs17l4=100.00,total=93.57,grade='H' WHERE sl=44;\n",
      "UPDATE s7_attn SET cs1701=89.47,cs1702=72.73,cs1703=,cs1704=78.26,cs1705=80.00,cs17l1=87.50,cs17l2=100.00,cs17l3=100.00,cs17l4=100.00,total=87.86,grade='N' WHERE sl=45;\n",
      "UPDATE s7_attn SET cs1701=73.68,cs1702=90.91,cs1703=,cs1704=95.65,cs1705=95.00,cs17l1=75.00,cs17l2=100.00,cs17l3=100.00,cs17l4=85.71,total=88.57,grade='N' WHERE sl=46;\n",
      "UPDATE s7_attn SET cs1701=94.74,cs1702=100.00,cs1703=,cs1704=86.96,cs1705=95.00,cs17l1=75.00,cs17l2=100.00,cs17l3=100.00,cs17l4=100.00,total=92.14,grade='H' WHERE sl=47;\n",
      "UPDATE s7_attn SET cs1701=89.47,cs1702=90.91,cs1703=,cs1704=86.96,cs1705=90.00,cs17l1=87.50,cs17l2=100.00,cs17l3=100.00,cs17l4=100.00,total=92.14,grade='H' WHERE sl=48;\n",
      "UPDATE s7_attn SET cs1701=89.47,cs1702=100.00,cs1703=,cs1704=100.00,cs1705=95.00,cs17l1=87.50,cs17l2=100.00,cs17l3=100.00,cs17l4=100.00,total=95.71,grade='H' WHERE sl=49;\n",
      "UPDATE s7_attn SET cs1701=89.47,cs1702=100.00,cs1703=,cs1704=56.52,cs1705=80.00,cs17l1=62.50,cs17l2=64.71,cs17l3=66.67,cs17l4=100.00,total=75.00,grade='L' WHERE sl=50;\n",
      "UPDATE s7_attn SET cs1701=78.95,cs1702=63.64,cs1703=,cs1704=69.57,cs1705=65.00,cs17l1=87.50,cs17l2=88.24,cs17l3=100.00,cs17l4=100.00,total=80.71,grade='N' WHERE sl=51;\n",
      "UPDATE s7_attn SET cs1701=89.47,cs1702=81.82,cs1703=,cs1704=86.96,cs1705=80.00,cs17l1=62.50,cs17l2=100.00,cs17l3=83.33,cs17l4=100.00,total=84.29,grade='N' WHERE sl=52;\n",
      "UPDATE s7_attn SET cs1701=100.00,cs1702=72.73,cs1703=,cs1704=86.96,cs1705=95.00,cs17l1=87.50,cs17l2=100.00,cs17l3=100.00,cs17l4=100.00,total=92.86,grade='H' WHERE sl=53;\n",
      "UPDATE s7_attn SET cs1701=84.21,cs1702=81.82,cs1703=,cs1704=82.61,cs1705=70.00,cs17l1=75.00,cs17l2=100.00,cs17l3=100.00,cs17l4=85.71,total=83.57,grade='N' WHERE sl=54;\n",
      "UPDATE s7_attn SET cs1701=94.74,cs1702=90.91,cs1703=,cs1704=91.30,cs1705=95.00,cs17l1=87.50,cs17l2=82.35,cs17l3=66.67,cs17l4=100.00,total=89.29,grade='N' WHERE sl=55;\n",
      "UPDATE s7_attn SET cs1701=89.47,cs1702=100.00,cs1703=,cs1704=100.00,cs1705=100.00,cs17l1=87.50,cs17l2=100.00,cs17l3=100.00,cs17l4=100.00,total=96.43,grade='H' WHERE sl=56;\n",
      "UPDATE s7_attn SET cs1701=94.74,cs1702=90.91,cs1703=,cs1704=91.30,cs1705=100.00,cs17l1=87.50,cs17l2=100.00,cs17l3=83.33,cs17l4=100.00,total=93.57,grade='H' WHERE sl=57;\n",
      "UPDATE s7_attn SET cs1701=100.00,cs1702=81.82,cs1703=,cs1704=91.30,cs1705=95.00,cs17l1=87.50,cs17l2=100.00,cs17l3=100.00,cs17l4=100.00,total=94.29,grade='H' WHERE sl=58;\n",
      "UPDATE s7_attn SET cs1701=100.00,cs1702=100.00,cs1703=,cs1704=91.30,cs1705=90.00,cs17l1=87.50,cs17l2=100.00,cs17l3=100.00,cs17l4=100.00,total=95.00,grade='H' WHERE sl=59;\n",
      "UPDATE s7_attn SET cs1701=89.47,cs1702=100.00,cs1703=,cs1704=91.30,cs1705=95.00,cs17l1=87.50,cs17l2=100.00,cs17l3=100.00,cs17l4=100.00,total=94.29,grade='H' WHERE sl=60;\n",
      "UPDATE s7_attn SET cs1701=68.42,cs1702=45.45,cs1703=,cs1704=65.22,cs1705=80.00,cs17l1=62.50,cs17l2=100.00,cs17l3=50.00,cs17l4=100.00,total=72.14,grade='L' WHERE sl=61;\n",
      "UPDATE s7_attn SET cs1701=84.21,cs1702=90.91,cs1703=,cs1704=86.96,cs1705=75.00,cs17l1=87.50,cs17l2=100.00,cs17l3=83.33,cs17l4=85.71,total=86.43,grade='N' WHERE sl=62;\n",
      "UPDATE s7_attn SET cs1701=84.21,cs1702=90.91,cs1703=,cs1704=65.22,cs1705=75.00,cs17l1=87.50,cs17l2=70.59,cs17l3=100.00,cs17l4=100.00,total=82.14,grade='N' WHERE sl=63;\n",
      "UPDATE s7_attn SET cs1701=89.47,cs1702=100.00,cs1703=,cs1704=69.57,cs1705=80.00,cs17l1=75.00,cs17l2=82.35,cs17l3=100.00,cs17l4=100.00,total=84.29,grade='N' WHERE sl=64;\n",
      "UPDATE s7_attn SET cs1701=94.74,cs1702=100.00,cs1703=,cs1704=82.61,cs1705=90.00,cs17l1=75.00,cs17l2=82.35,cs17l3=100.00,cs17l4=100.00,total=88.57,grade='N' WHERE sl=65;\n",
      "UPDATE s7_attn SET cs1701=73.68,cs1702=90.91,cs1703=,cs1704=56.52,cs1705=75.00,cs17l1=37.50,cs17l2=82.35,cs17l3=100.00,cs17l4=100.00,total=72.14,grade='L' WHERE sl=66;\n",
      "UPDATE s7_attn SET cs1701=78.95,cs1702=81.82,cs1703=,cs1704=86.96,cs1705=85.00,cs17l1=62.50,cs17l2=100.00,cs17l3=100.00,cs17l4=100.00,total=85.00,grade='N' WHERE sl=67;\n"
     ]
    }
   ],
   "source": [
    "for i in range(13,884,13): # for updating attendance\n",
    "    query=update_q %(ppl[i+2],ppl[i+3],ppl[i+4],ppl[i+5],ppl[i+6],ppl[i+7],ppl[i+8],ppl[i+9],ppl[i+10],ppl[i+11][:-1],ppl[i+12],ppl[i][-2:])\n",
    "    print(query)\n",
    "#     cur.execute(query)\n",
    "# conn.commit()"
   ]
  },
  {
   "cell_type": "code",
   "execution_count": 76,
   "metadata": {
    "collapsed": true
   },
   "outputs": [],
   "source": [
    "# des=cur.execute(describe)\n",
    "# print(cur.fetchall())"
   ]
  },
  {
   "cell_type": "code",
   "execution_count": 74,
   "metadata": {
    "collapsed": true
   },
   "outputs": [],
   "source": [
    "cur.execute(tquery)\n",
    "conn.commit()\n"
   ]
  },
  {
   "cell_type": "code",
   "execution_count": null,
   "metadata": {
    "collapsed": true
   },
   "outputs": [],
   "source": [
    "cur.close()\n",
    "conn.close()"
   ]
  }
 ],
 "metadata": {
  "kernelspec": {
   "display_name": "Python 2",
   "language": "python",
   "name": "python2"
  },
  "language_info": {
   "codemirror_mode": {
    "name": "ipython",
    "version": 2
   },
   "file_extension": ".py",
   "mimetype": "text/x-python",
   "name": "python",
   "nbconvert_exporter": "python",
   "pygments_lexer": "ipython2",
   "version": "2.7.13"
  }
 },
 "nbformat": 4,
 "nbformat_minor": 2
}
