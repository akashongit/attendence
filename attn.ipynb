{
 "cells": [
  {
   "cell_type": "code",
   "execution_count": 108,
   "metadata": {
    "collapsed": true
   },
   "outputs": [],
   "source": [
    "import webbrowser,requests,bs4\n",
    "import getpass\n",
    "import MySQLdb as mariadb"
   ]
  },
  {
   "cell_type": "code",
   "execution_count": 109,
   "metadata": {
    "collapsed": true
   },
   "outputs": [],
   "source": [
    "cl='C7A'\n",
    "page=requests.post('http://attendance.mec.ac.in/view4stud.php',data={'class':cl})\n",
    "src=page.text"
   ]
  },
  {
   "cell_type": "code",
   "execution_count": 110,
   "metadata": {
    "collapsed": true
   },
   "outputs": [],
   "source": [
    "attn=bs4.BeautifulSoup(src)"
   ]
  },
  {
   "cell_type": "code",
   "execution_count": 111,
   "metadata": {},
   "outputs": [
    {
     "data": {
      "text/plain": [
       "u'70.00'"
      ]
     },
     "execution_count": 111,
     "metadata": {},
     "output_type": "execute_result"
    }
   ],
   "source": [
    "ppl=attn.select('table.attn tr td')\n",
    "ppl[45].getText()"
   ]
  },
  {
   "cell_type": "code",
   "execution_count": 112,
   "metadata": {
    "collapsed": true
   },
   "outputs": [],
   "source": [
    "for i in range(13,884):\n",
    "    ppl[i]=ppl[i].getText()\n",
    "    ppl[i]=\" \".join(ppl[i].split())\n",
    "    if ppl[i]=='Nil':\n",
    "        ppl[i]='-1'\n",
    "        \n",
    "# len(ppl)\n",
    "# 13*68"
   ]
  },
  {
   "cell_type": "code",
   "execution_count": 88,
   "metadata": {},
   "outputs": [
    {
     "data": {
      "text/plain": [
       "u'01'"
      ]
     },
     "execution_count": 88,
     "metadata": {},
     "output_type": "execute_result"
    }
   ],
   "source": [
    "ppl[13][-2:]"
   ]
  },
  {
   "cell_type": "code",
   "execution_count": 34,
   "metadata": {},
   "outputs": [
    {
     "name": "stdout",
     "output_type": "stream",
     "text": [
      "········\n"
     ]
    }
   ],
   "source": [
    "conn=mariadb.connect(host='localhost',user='root',passwd=getpass.getpass(),db=input())"
   ]
  },
  {
   "cell_type": "code",
   "execution_count": 35,
   "metadata": {
    "collapsed": true
   },
   "outputs": [],
   "source": [
    "cur=conn.cursor()"
   ]
  },
  {
   "cell_type": "code",
   "execution_count": 100,
   "metadata": {
    "collapsed": true
   },
   "outputs": [],
   "source": [
    "tquery=\"CREATE TABLE s7_attn (sl INT PRIMARY KEY AUTO_INCREMENT,roll VARCHAR(10) NOT NULL,name VARCHAR(30) NOT NULL,cs1701 FLOAT,cs1702 FLOAT,cs1703 FLOAT,cs1704 FLOAT,cs1705 FLOAT,cs17l1 FLOAT,cs17l2 FLOAT,cs17l3 FLOAT,cs17l4 FLOAT,total FLOAT,grade VARCHAR(1));\"\n",
    "drop='DROP TABLE s7_attn;'\n",
    "describe='DESCRIBE s7_attn;'"
   ]
  },
  {
   "cell_type": "code",
   "execution_count": 113,
   "metadata": {
    "collapsed": true
   },
   "outputs": [],
   "source": [
    "update_q=\"UPDATE s7_attn SET cs1701=%s,cs1702=%s,cs1703=%s,cs1704=%s,cs1705=%s,cs17l1=%s,cs17l2=%s,cs17l3=%s,cs17l4=%s,total=%s,grade='%s' WHERE sl=%s;\""
   ]
  },
  {
   "cell_type": "code",
   "execution_count": 102,
   "metadata": {
    "collapsed": true
   },
   "outputs": [],
   "source": [
    "insert_q=\"INSERT INTO s7_attn (roll,name,cs1701,cs1702,cs1703,cs1704,cs1705,cs17l1,cs17l2,cs17l3,cs17l4,total,grade) VALUES ('%s','%s',%s,%s,%s,%s,%s,%s,%s,%s,%s,%s,'%s');\""
   ]
  },
  {
   "cell_type": "code",
   "execution_count": 114,
   "metadata": {},
   "outputs": [
    {
     "name": "stdout",
     "output_type": "stream",
     "text": [""
     ]
    }
   ],
   "source": [
    "for i in range(13,884,13): # for initiation of attendance\n",
    "    query=insert_q %(ppl[i],ppl[i+1],ppl[i+2],ppl[i+3],ppl[i+4],ppl[i+5],ppl[i+6],ppl[i+7],ppl[i+8],ppl[i+9],ppl[i+10],ppl[i+11][:-1],ppl[i+12])\n",
    "    print(query)\n",
    "#     cur.execute(query)\n",
    "# conn.commit()"
   ]
  },
  {
   "cell_type": "code",
   "execution_count": 115,
   "metadata": {},
   "outputs": [
    {
     "name": "stdout",
     "output_type": "stream",
     "text": [
      ""
     ]
    }
   ],
   "source": [
    "for i in range(13,884,13): # for updating attendance\n",
    "    query=update_q %(ppl[i+2],ppl[i+3],ppl[i+4],ppl[i+5],ppl[i+6],ppl[i+7],ppl[i+8],ppl[i+9],ppl[i+10],ppl[i+11][:-1],ppl[i+12],ppl[i][-2:])\n",
    "    print(query)\n",
    "#     cur.execute(query)\n",
    "# conn.commit()"
   ]
  },
  {
   "cell_type": "code",
   "execution_count": 76,
   "metadata": {
    "collapsed": true
   },
   "outputs": [],
   "source": [
    "# des=cur.execute(describe)\n",
    "# print(cur.fetchall())"
   ]
  },
  {
   "cell_type": "code",
   "execution_count": 74,
   "metadata": {
    "collapsed": true
   },
   "outputs": [],
   "source": [
    "cur.execute(tquery)\n",
    "conn.commit()\n"
   ]
  },
  {
   "cell_type": "code",
   "execution_count": null,
   "metadata": {
    "collapsed": true
   },
   "outputs": [],
   "source": [
    "cur.close()\n",
    "conn.close()"
   ]
  }
 ],
 "metadata": {
  "kernelspec": {
   "display_name": "Python 2",
   "language": "python",
   "name": "python2"
  },
  "language_info": {
   "codemirror_mode": {
    "name": "ipython",
    "version": 2
   },
   "file_extension": ".py",
   "mimetype": "text/x-python",
   "name": "python",
   "nbconvert_exporter": "python",
   "pygments_lexer": "ipython2",
   "version": "2.7.13"
  }
 },
 "nbformat": 4,
 "nbformat_minor": 2
}
